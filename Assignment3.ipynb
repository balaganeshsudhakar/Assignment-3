{
 "cells": [
  {
   "cell_type": "markdown",
   "id": "a106a2f8-2041-4169-af43-7e8fb1c29053",
   "metadata": {},
   "source": [
    "## importing library"
   ]
  },
  {
   "cell_type": "code",
   "execution_count": 45,
   "id": "d017f7f2-e7b2-4af0-bbf1-ea71bb01c6d0",
   "metadata": {},
   "outputs": [],
   "source": [
    "import pandas as pd\n",
    "import numpy as np\n"
   ]
  },
  {
   "cell_type": "code",
   "execution_count": 46,
   "id": "5f7fcc7a-7055-4f41-9668-4ad8b0f72897",
   "metadata": {},
   "outputs": [],
   "source": [
    "df=pd.read_csv('data/pandas.csv')"
   ]
  },
  {
   "cell_type": "markdown",
   "id": "214ffc32-6c7f-4654-9d29-7e79d3395314",
   "metadata": {},
   "source": [
    "### 1. Import pandas and read the data into a DataFrame. Print the first 5 rows of the DataFrame."
   ]
  },
  {
   "cell_type": "code",
   "execution_count": 47,
   "id": "4b38e02a-db69-42fd-beca-f6b82c1cf8a3",
   "metadata": {},
   "outputs": [],
   "source": [
    "#Print the first 5 rows of the DataFrame"
   ]
  },
  {
   "cell_type": "code",
   "execution_count": 48,
   "id": "f683d549-ab42-4f00-97b0-0f3a783a8f12",
   "metadata": {},
   "outputs": [
    {
     "name": "stdout",
     "output_type": "stream",
     "text": [
      "      Name  Gender  Age  Height (cm)  Weight (kg)         City\n",
      "0    Alice  Female   25          165           58     New York\n",
      "1      Bob    Male   30          180           80  Los Angeles\n",
      "2  Charlie    Male   35          175           70      Chicago\n",
      "3    Diana  Female   28          170           65        Miami\n",
      "4      Eva  Female   27          175           60     New York\n"
     ]
    }
   ],
   "source": [
    "print(df.head(5))"
   ]
  },
  {
   "cell_type": "markdown",
   "id": "dd46f1c5-fcc3-4746-9814-077656d3f72b",
   "metadata": {},
   "source": [
    "## 2. Print the number of rows and columns in the DataFrame"
   ]
  },
  {
   "cell_type": "code",
   "execution_count": 49,
   "id": "d2e2a2fd-464c-438b-a1a5-338daf5ac9a1",
   "metadata": {},
   "outputs": [
    {
     "name": "stdout",
     "output_type": "stream",
     "text": [
      "Number of rows: 10\n",
      "Number of columns: 6\n"
     ]
    }
   ],
   "source": [
    "print(\"Number of rows:\", df.shape[0])\n",
    "print(\"Number of columns:\", df.shape[1])"
   ]
  },
  {
   "cell_type": "markdown",
   "id": "0f8415fc-c4c1-4725-be8a-5b9daf98ef81",
   "metadata": {},
   "source": [
    "## 3. Print the null value count"
   ]
  },
  {
   "cell_type": "code",
   "execution_count": 50,
   "id": "0e11aca7-7c04-42c5-a9dd-516ed0a1bade",
   "metadata": {},
   "outputs": [
    {
     "name": "stdout",
     "output_type": "stream",
     "text": [
      "Name           0\n",
      "Gender         0\n",
      "Age            0\n",
      "Height (cm)    0\n",
      "Weight (kg)    0\n",
      "City           0\n",
      "dtype: int64\n"
     ]
    }
   ],
   "source": [
    "null_counts = df.isnull().sum()\n",
    "print(null_counts)"
   ]
  },
  {
   "cell_type": "markdown",
   "id": "65b2a05b-aa4a-4963-b326-3620f31be07b",
   "metadata": {},
   "source": [
    "## 4. Print the average age, height, and weight of the people in the DataFrame"
   ]
  },
  {
   "cell_type": "code",
   "execution_count": 51,
   "id": "855dfa87-59ab-437b-8bb9-452bfbe6321b",
   "metadata": {},
   "outputs": [
    {
     "name": "stdout",
     "output_type": "stream",
     "text": [
      "Average Age: 31.6\n"
     ]
    }
   ],
   "source": [
    "Average_Age = df['Age'].mean()\n",
    "\n",
    "print(\"Average Age:\", Average_Age)\n"
   ]
  },
  {
   "cell_type": "code",
   "execution_count": 53,
   "id": "0a32fd63-22a0-4622-8503-387e77a74a12",
   "metadata": {},
   "outputs": [
    {
     "name": "stdout",
     "output_type": "stream",
     "text": [
      "Average Height: 175.0 cm\n"
     ]
    }
   ],
   "source": [
    "\n",
    "Average_Height = df[\"Height (cm)\"].mean()\n",
    "\n",
    "print(\"Average Height:\",Average_Height, \"cm\")"
   ]
  },
  {
   "cell_type": "code",
   "execution_count": 54,
   "id": "a4505d56-fc4f-4e57-824c-d3d049b9fb56",
   "metadata": {},
   "outputs": [
    {
     "name": "stdout",
     "output_type": "stream",
     "text": [
      "Average Weight: 68.9 kg\n"
     ]
    }
   ],
   "source": [
    "Average_Weight = df[\"Weight (kg)\"].mean()\n",
    "\n",
    "print(\"Average Weight:\",Average_Weight, \"kg\")"
   ]
  },
  {
   "cell_type": "markdown",
   "id": "a3cbc29c-3395-4d2a-b044-da2389c40db0",
   "metadata": {},
   "source": [
    "## 5. Print the name and city of the person who is the tallest in the DataFrame."
   ]
  },
  {
   "cell_type": "code",
   "execution_count": 55,
   "id": "92808e2b-dbac-4648-8019-01afb703d1db",
   "metadata": {},
   "outputs": [
    {
     "name": "stdout",
     "output_type": "stream",
     "text": [
      "Name of the tallest person: Frank\n",
      "City of the tallest person: Houston\n"
     ]
    }
   ],
   "source": [
    "tallest_person_index = df[\"Height (cm)\"].idxmax()\n",
    "tallest_person = df.loc[tallest_person_index]\n",
    "\n",
    "print(\"Name of the tallest person:\", tallest_person[\"Name\"])\n",
    "print(\"City of the tallest person:\", tallest_person[\"City\"])"
   ]
  },
  {
   "cell_type": "code",
   "execution_count": 57,
   "id": "e9bfe425-7735-41a4-94db-2c2f8e8021f6",
   "metadata": {},
   "outputs": [
    {
     "name": "stdout",
     "output_type": "stream",
     "text": [
      "      Name  Gender  Age  Height (cm)  Weight (kg)         City        BMI\n",
      "0    Alice  Female   25         1.65           58     New York  21.303949\n",
      "1      Bob    Male   30         1.80           80  Los Angeles  24.691358\n",
      "2  Charlie    Male   35         1.75           70      Chicago  22.857143\n",
      "3    Diana  Female   28         1.70           65        Miami  22.491349\n",
      "4      Eva  Female   27         1.75           60     New York  19.591837\n",
      "5    Frank    Male   40         1.90           85      Houston  23.545706\n",
      "6    Grace  Female   32         1.68           55      Chicago  19.486961\n",
      "7    Henry    Male   45         1.75           75  Los Angeles  24.489796\n",
      "8      Ivy  Female   26         1.72           63        Miami  21.295295\n",
      "9     Jack    Male   28         1.80           78     New York  24.074074\n"
     ]
    }
   ],
   "source": [
    "df = pd.DataFrame(df)\n",
    "\n",
    "# Converting height from cm to m\n",
    "df[\"Height (cm)\"] = df[\"Height (cm)\"] / 100\n",
    "\n",
    "# Calculating BMI\n",
    "df[\"BMI\"] = df[\"Weight (kg)\"] / (df[\"Height (cm)\"] ** 2)\n",
    "\n",
    "# Printing the DataFrame with the new column\n",
    "print(df)"
   ]
  },
  {
   "cell_type": "markdown",
   "id": "1e0b39c9-8347-4317-83f1-091e7adc7848",
   "metadata": {},
   "source": [
    "## 7. Group the data by gender and print the average age, height, and weight of males and females separately."
   ]
  },
  {
   "cell_type": "code",
   "execution_count": 58,
   "id": "afe4e9d3-6e3e-4cdb-b2fc-d191ed54da17",
   "metadata": {},
   "outputs": [
    {
     "name": "stdout",
     "output_type": "stream",
     "text": [
      "Average data by gender:\n",
      "         Age  Height (cm)  Weight (kg)\n",
      "Gender                                \n",
      "Female  27.6          1.7         60.2\n",
      "Male    35.6          1.8         77.6\n"
     ]
    }
   ],
   "source": [
    "df = pd.DataFrame(df)\n",
    "\n",
    "# Grouping the data by gender\n",
    "grouped_data = df.groupby(\"Gender\")\n",
    "\n",
    "# Calculating the average age, height, and weight for each gender\n",
    "average_data = grouped_data.agg({\"Age\": \"mean\", \"Height (cm)\": \"mean\", \"Weight (kg)\": \"mean\"})\n",
    "\n",
    "# Printing the average data for males and females separately\n",
    "print(\"Average data by gender:\")\n",
    "print(average_data)"
   ]
  },
  {
   "cell_type": "markdown",
   "id": "e18e33c5-c33c-41e6-be9c-3c9e5adb9eec",
   "metadata": {},
   "source": [
    "## 8. Sort the data by age in ascending order and print the first 3 rows of the sorted DataFrame."
   ]
  },
  {
   "cell_type": "code",
   "execution_count": 59,
   "id": "424bd7f8-cd59-4389-ab60-05eb19e0f6c7",
   "metadata": {},
   "outputs": [
    {
     "name": "stdout",
     "output_type": "stream",
     "text": [
      "First 3 rows of the sorted DataFrame:\n",
      "    Name  Gender  Age  Height (cm)  Weight (kg)      City        BMI\n",
      "0  Alice  Female   25         1.65           58  New York  21.303949\n",
      "8    Ivy  Female   26         1.72           63     Miami  21.295295\n",
      "4    Eva  Female   27         1.75           60  New York  19.591837\n"
     ]
    }
   ],
   "source": [
    "df = pd.DataFrame(df)\n",
    "\n",
    "# Sorting the DataFrame by age in ascending order\n",
    "sorted_df = df.sort_values(by=\"Age\")\n",
    "\n",
    "# Printing the first 3 rows of the sorted DataFrame\n",
    "print(\"First 3 rows of the sorted DataFrame:\")\n",
    "print(sorted_df.head(3))"
   ]
  },
  {
   "cell_type": "markdown",
   "id": "837e041e-3046-4320-b06b-f1fa503a6f66",
   "metadata": {},
   "source": [
    "## 9. Filter the data to only include people who live in New York and print the resulting DataFrame."
   ]
  },
  {
   "cell_type": "code",
   "execution_count": 61,
   "id": "d62d8924-3e98-4eaf-8d44-aa539930f3d6",
   "metadata": {},
   "outputs": [
    {
     "name": "stdout",
     "output_type": "stream",
     "text": [
      "People who live in New York:\n",
      "    Name  Gender  Age  Height (cm)  Weight (kg)      City        BMI\n",
      "0  Alice  Female   25         1.65           58  New York  21.303949\n",
      "4    Eva  Female   27         1.75           60  New York  19.591837\n",
      "9   Jack    Male   28         1.80           78  New York  24.074074\n"
     ]
    }
   ],
   "source": [
    "df = pd.DataFrame(df)\n",
    "\n",
    "# Filtering the DataFrame to include only people who live in New York\n",
    "new_york_data = df[df[\"City\"] == \"New York\"]\n",
    "\n",
    "# Printing the resulting DataFrame\n",
    "print(\"People who live in New York:\")\n",
    "print(new_york_data)"
   ]
  },
  {
   "cell_type": "code",
   "execution_count": null,
   "id": "552da38b-8c8d-46e0-aa6a-873b468119af",
   "metadata": {},
   "outputs": [],
   "source": []
  }
 ],
 "metadata": {
  "kernelspec": {
   "display_name": "Python 3 (ipykernel)",
   "language": "python",
   "name": "python3"
  },
  "language_info": {
   "codemirror_mode": {
    "name": "ipython",
    "version": 3
   },
   "file_extension": ".py",
   "mimetype": "text/x-python",
   "name": "python",
   "nbconvert_exporter": "python",
   "pygments_lexer": "ipython3",
   "version": "3.11.4"
  }
 },
 "nbformat": 4,
 "nbformat_minor": 5
}
